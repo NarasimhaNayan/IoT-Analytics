{
 "cells": [
  {
   "cell_type": "markdown",
   "metadata": {},
   "source": [
    "# ***Project 5 Machine Learning Algorithms***"
   ]
  },
  {
   "cell_type": "markdown",
   "metadata": {},
   "source": [
    "### ***Task 1. Configuration of Neural Networks***\n",
    "\n",
    "**1.1 Use the first 2,000 points to train your neural network using an automatic grid search tool. Use\n",
    "the remaining 300 points as test data.**"
   ]
  },
  {
   "cell_type": "code",
   "execution_count": 2,
   "metadata": {},
   "outputs": [],
   "source": [
    "import numpy as np\n",
    "import pandas as pd\n",
    "import matplotlib.pyplot as plt\n",
    "from sklearn.neural_network import MLPRegressor\n",
    "from sklearn.model_selection import GridSearchCV\n",
    "from sklearn.model_selection import train_test_split\n",
    "from sklearn.preprocessing import MinMaxScaler\n",
    "from sklearn.metrics import mean_squared_error\n",
    "import statsmodels.api as sm"
   ]
  },
  {
   "cell_type": "code",
   "execution_count": 3,
   "metadata": {},
   "outputs": [
    {
     "data": {
      "text/html": [
       "<div>\n",
       "<style scoped>\n",
       "    .dataframe tbody tr th:only-of-type {\n",
       "        vertical-align: middle;\n",
       "    }\n",
       "\n",
       "    .dataframe tbody tr th {\n",
       "        vertical-align: top;\n",
       "    }\n",
       "\n",
       "    .dataframe thead th {\n",
       "        text-align: right;\n",
       "    }\n",
       "</style>\n",
       "<table border=\"1\" class=\"dataframe\">\n",
       "  <thead>\n",
       "    <tr style=\"text-align: right;\">\n",
       "      <th></th>\n",
       "      <th>snoring_range</th>\n",
       "      <th>oxygen_in_blood</th>\n",
       "      <th>rapid_eye_movement</th>\n",
       "      <th>number_of_hours_of_sleep</th>\n",
       "      <th>heart_rate</th>\n",
       "      <th>stress_level</th>\n",
       "    </tr>\n",
       "  </thead>\n",
       "  <tbody>\n",
       "    <tr>\n",
       "      <th>0</th>\n",
       "      <td>45.040</td>\n",
       "      <td>95.016</td>\n",
       "      <td>60.16</td>\n",
       "      <td>7.016</td>\n",
       "      <td>50.04</td>\n",
       "      <td>0.0</td>\n",
       "    </tr>\n",
       "    <tr>\n",
       "      <th>1</th>\n",
       "      <td>72.800</td>\n",
       "      <td>91.280</td>\n",
       "      <td>91.40</td>\n",
       "      <td>3.920</td>\n",
       "      <td>63.20</td>\n",
       "      <td>2.0</td>\n",
       "    </tr>\n",
       "    <tr>\n",
       "      <th>2</th>\n",
       "      <td>98.848</td>\n",
       "      <td>86.272</td>\n",
       "      <td>103.56</td>\n",
       "      <td>0.000</td>\n",
       "      <td>82.12</td>\n",
       "      <td>4.0</td>\n",
       "    </tr>\n",
       "    <tr>\n",
       "      <th>3</th>\n",
       "      <td>62.240</td>\n",
       "      <td>90.224</td>\n",
       "      <td>86.12</td>\n",
       "      <td>2.336</td>\n",
       "      <td>60.56</td>\n",
       "      <td>2.0</td>\n",
       "    </tr>\n",
       "    <tr>\n",
       "      <th>4</th>\n",
       "      <td>96.192</td>\n",
       "      <td>82.288</td>\n",
       "      <td>100.24</td>\n",
       "      <td>0.000</td>\n",
       "      <td>75.48</td>\n",
       "      <td>4.0</td>\n",
       "    </tr>\n",
       "  </tbody>\n",
       "</table>\n",
       "</div>"
      ],
      "text/plain": [
       "   snoring_range  oxygen_in_blood  rapid_eye_movement  \\\n",
       "0         45.040           95.016               60.16   \n",
       "1         72.800           91.280               91.40   \n",
       "2         98.848           86.272              103.56   \n",
       "3         62.240           90.224               86.12   \n",
       "4         96.192           82.288              100.24   \n",
       "\n",
       "   number_of_hours_of_sleep  heart_rate  stress_level  \n",
       "0                     7.016       50.04           0.0  \n",
       "1                     3.920       63.20           2.0  \n",
       "2                     0.000       82.12           4.0  \n",
       "3                     2.336       60.56           2.0  \n",
       "4                     0.000       75.48           4.0  "
      ]
     },
     "execution_count": 3,
     "metadata": {},
     "output_type": "execute_result"
    }
   ],
   "source": [
    "df = pd.read_csv('SaYoPillow_Dataset.csv', usecols  = ['number_of_hours_of_sleep','snoring_range', 'heart_rate','oxygen_in_blood','rapid_eye_movement','stress_level'])\n",
    "df.head()"
   ]
  },
  {
   "cell_type": "code",
   "execution_count": 4,
   "metadata": {},
   "outputs": [],
   "source": [
    "X = df.iloc[:,:-1]\n",
    "Y = df['snoring_range']\n",
    "\n",
    "X_train, X_test,  y_train, y_test = train_test_split(X, Y, train_size=2000, test_size=300, random_state=42)"
   ]
  },
  {
   "cell_type": "code",
   "execution_count": 5,
   "metadata": {},
   "outputs": [
    {
     "name": "stdout",
     "output_type": "stream",
     "text": [
      "Fitting 5 folds for each of 48 candidates, totalling 240 fits\n",
      "Best parameters: {'activation': 'relu', 'alpha': 0.001, 'hidden_layer_sizes': (50, 50), 'learning_rate_init': 0.001, 'solver': 'adam'}\n",
      "Best score (negative mean squared error): -0.004262047169931527\n"
     ]
    }
   ],
   "source": [
    "mlp = MLPRegressor(random_state=42)\n",
    "\n",
    "param_grid = {\n",
    "    'hidden_layer_sizes': [(50,), (100,), (50, 50)],\n",
    "    'activation': ['tanh', 'relu'],\n",
    "    'solver': ['sgd', 'adam'],\n",
    "    'alpha': [0.0001, 0.001],\n",
    "    'learning_rate_init': [0.001, 0.01]\n",
    "}\n",
    "\n",
    "grid_search = GridSearchCV(estimator=mlp, param_grid=param_grid, cv=5, scoring='neg_mean_squared_error', verbose=2, n_jobs=-1)\n",
    "grid_search.fit(X_train, y_train)\n",
    "\n",
    "# Output the best parameters and best score\n",
    "print(\"Best parameters:\", grid_search.best_params_)\n",
    "print(\"Best score (negative mean squared error):\", grid_search.best_score_)\n"
   ]
  },
  {
   "cell_type": "code",
   "execution_count": 6,
   "metadata": {},
   "outputs": [
    {
     "name": "stdout",
     "output_type": "stream",
     "text": [
      "                            OLS Regression Results                            \n",
      "==============================================================================\n",
      "Dep. Variable:          snoring_range   R-squared:                       1.000\n",
      "Model:                            OLS   Adj. R-squared:                  1.000\n",
      "Method:                 Least Squares   F-statistic:                 4.215e+29\n",
      "Date:                Thu, 25 Apr 2024   Prob (F-statistic):               0.00\n",
      "Time:                        21:26:32   Log-Likelihood:                 53461.\n",
      "No. Observations:                2000   AIC:                        -1.069e+05\n",
      "Df Residuals:                    1994   BIC:                        -1.069e+05\n",
      "Df Model:                           5                                         \n",
      "Covariance Type:            nonrobust                                         \n",
      "============================================================================================\n",
      "                               coef    std err          t      P>|t|      [0.025      0.975]\n",
      "--------------------------------------------------------------------------------------------\n",
      "const                    -7.105e-13   1.13e-12     -0.630      0.529   -2.92e-12     1.5e-12\n",
      "snoring_range                1.0000      4e-15    2.5e+14      0.000       1.000       1.000\n",
      "oxygen_in_blood           4.441e-16    1.2e-14      0.037      0.971   -2.31e-14     2.4e-14\n",
      "rapid_eye_movement       -1.305e-15   3.67e-15     -0.355      0.722   -8.51e-15     5.9e-15\n",
      "number_of_hours_of_sleep -8.882e-15   1.68e-14     -0.530      0.596   -4.18e-14     2.4e-14\n",
      "heart_rate                6.883e-15   6.45e-15      1.066      0.286   -5.77e-15    1.95e-14\n",
      "==============================================================================\n",
      "Omnibus:                       96.432   Durbin-Watson:                   0.003\n",
      "Prob(Omnibus):                  0.000   Jarque-Bera (JB):              109.598\n",
      "Skew:                          -0.569   Prob(JB):                     1.59e-24\n",
      "Kurtosis:                       2.864   Cond. No.                     1.36e+04\n",
      "==============================================================================\n",
      "\n",
      "Notes:\n",
      "[1] Standard Errors assume that the covariance matrix of the errors is correctly specified.\n",
      "[2] The condition number is large, 1.36e+04. This might indicate that there are\n",
      "strong multicollinearity or other numerical problems.\n",
      "Sum of Squared Errors (SSE): 7.093964345049771e-22\n"
     ]
    }
   ],
   "source": [
    "X_train_const = sm.add_constant(X_train)  # adding a constant for the intercept\n",
    "model = sm.OLS(y_train, X_train_const)    # creating the OLS model\n",
    "results = model.fit()                     # fitting the model\n",
    "\n",
    "print(results.summary())\n",
    "\n",
    "y_train_pred = results.predict(X_train_const)\n",
    "\n",
    "sse = ((y_train - y_train_pred) ** 2).sum()\n",
    "print(f\"Sum of Squared Errors (SSE): {sse}\")\n"
   ]
  },
  {
   "cell_type": "markdown",
   "metadata": {},
   "source": [
    "### ***1.3 Discuss your results.***\n",
    "\n",
    "To provide a meaningful discussion of the results from tasks 1.1 and 1.2, let's consider the output from both the neural network grid search and the linear regression model:\n",
    "\n",
    "### 1. Neural Network Grid Search Results\n",
    "We have run the grid search for the `MLPRegressor` as described, I have identified the best hyperparameters for your neural network. Below are few observations:\n",
    "\n",
    "### Hyperparameter Efficacy\n",
    "The best parameters obtained from the `GridSearchCV` for the MLPRegressor demonstrate the model's optimal settings for this specific dataset. The `hidden_layer_sizes` of (50, 50) indicate a preference for a moderately complex model. The `activation` function `relu` is often preferred for many practical applications due to its ability to provide non-linear transformation with less risk of vanishing gradients compared to other activation functions like `tanh`. The `solver` 'adam' is known for being robust and efficient in handling large datasets and non-convex optimization problems, making it suitable for training deep neural networks. The `alpha` value of 0.001 helps in controlling overfitting by adding just enough regularization to the model, which improves its generalization capabilities without being overly punitive. Lastly, the `learning_rate_init` of 0.001 is conservative enough to allow for convergence to a good solution without the training process missing the global minimum.\n",
    "\n",
    "### Performance Evaluation\n",
    "The best score obtained, which is a negative mean squared error (MSE) of -0.004262047169931527, highlights the model's predictive accuracy. This MSE, when converted to a positive value, provides a measure of the average squared difference between the predicted and actual values. The closer this value is to zero, the better the model's predictions are. \n",
    "\n",
    "### 2. Linear Regression Model Results\n",
    "From the re-run of multiple regression model:\n",
    "\n",
    "### Model Fit\n",
    "The regression results show an extraordinarily high R-squared value of 1.000, indicating that the model explains all the variability in the dependent variable (`snoring_range`) with the independent variables included in the model. This suggest that the model fits the data exceptionally well. However, such perfect statistics may also indicate potential issues such as data leakage, perfect multicollinearity, or an error in data handling or model specification.\n",
    "\n",
    "### SSE Value\n",
    "Regarding the Sum of Squared Errors (SSE), while not explicitly provided in this output, the implication of a perfect fit (R-squared = 1.000) is that the SSE would be zero or extremely close to zero. This would normally suggest no discrepancy between the predicted and observed values, indicating an optimal fit. However, given the context of an R-squared of 1.000 and the nature of the other statistics, it would be prudent to scrutinize the data and model more closely to ensure there are no underlying issues skewing these results."
   ]
  },
  {
   "cell_type": "markdown",
   "metadata": {},
   "source": [
    "### ***Task 2. Generation of Parameter Sets for HMM***\n",
    "\n",
    "**Step 1: Generation of the pij probabilities**\n",
    "- Draw a pseudo-random number r and set p11 = r. Repeat the same for the remaining probabilities\n",
    "on the same row, i.e., p12; p13, and p14. Normalize the resulting probabilities, by dividing each by the\n",
    "sum p11 + p12 + p13 + p14, so that they all add up to 1.That is, set p11 = p11=(p11 + p12 + p13 + p14),\n",
    "p12=(p12 + p12 + p13 + p14), p13=(p11 + p12 + p13 + p14), and p14 = p14=(p11 + p12 + p13 + p14).\n",
    "\n",
    "- Repeat the same for the remaining rows of P."
   ]
  },
  {
   "cell_type": "code",
   "execution_count": 7,
   "metadata": {},
   "outputs": [
    {
     "name": "stdout",
     "output_type": "stream",
     "text": [
      "P: [[0.29626407 0.30823233 0.37067493 0.02482867]\n",
      " [0.28639575 0.19509174 0.38426513 0.13424739]\n",
      " [0.19700037 0.44275299 0.25230887 0.10793777]\n",
      " [0.2527676  0.24369366 0.19153504 0.3120037 ]]\n"
     ]
    }
   ],
   "source": [
    "np.random.seed(200537799)\n",
    "\n",
    "# Step 1: Generate the one-step transition probabilities matrix P\n",
    "P = np.zeros((4, 4))\n",
    "\n",
    "for i in range(4):\n",
    "    random_numbers = np.random.rand(4)\n",
    "    P[i, :] = random_numbers / random_numbers.sum()\n",
    "\n",
    "print('P:', P)"
   ]
  },
  {
   "cell_type": "markdown",
   "metadata": {},
   "source": [
    "**Step 2: Generation of the bi(k) probabilities**\n",
    "- Draw a pseudo-random number r and set b1(1) = r. Repeat the same for the remaining probabilities\n",
    "on the same row, i.e., b1(2); b1(3). Normalize the resulting probabilities, by dividing each by the sum\n",
    "b1(1)+b1(2)+b1(3). That is, set b1(1) = b1(1)=(b1(1)+b1(2)+b1(3)), b1(2) = b1(1)=(b1(1)+b1(2)+\n",
    "b1(3)), b1(3) = b1(3)=(b1(1) + b1(2) + b1(3)),\n",
    "\n",
    "- Repeat the same for the remaining rows of B."
   ]
  },
  {
   "cell_type": "code",
   "execution_count": 8,
   "metadata": {},
   "outputs": [
    {
     "name": "stdout",
     "output_type": "stream",
     "text": [
      "[[0.3038072  0.31608018 0.38011262]\n",
      " [0.03685936 0.57289004 0.3902506 ]\n",
      " [0.57051371 0.19931544 0.23017085]\n",
      " [0.55137385 0.31420795 0.1344182 ]]\n"
     ]
    },
    {
     "name": "stderr",
     "output_type": "stream",
     "text": [
      "C:\\Users\\nayan\\AppData\\Local\\Temp\\ipykernel_39660\\1964147934.py:14: DeprecationWarning: Conversion of an array with ndim > 0 to a scalar is deprecated, and will error in future. Ensure you extract a single element from your array before performing this operation. (Deprecated NumPy 1.25.)\n",
      "  B[i][j] = np.random.rand(1)\n"
     ]
    }
   ],
   "source": [
    "# Step 2: Generate the event matrix B\n",
    "B = np.zeros((4, 3))\n",
    "\n",
    "for i in range(4):\n",
    "    row_sum = 0\n",
    "    for j in range(3):\n",
    "      B[i][j] = np.random.rand(1)\n",
    "      row_sum += B[i][j]\n",
    "    B[i, :] = B[i, :] / row_sum\n",
    "\n",
    "print(B)\n"
   ]
  },
  {
   "cell_type": "markdown",
   "metadata": {},
   "source": [
    "**Step 3: Generation of the sequence of observation O.**\n",
    "\n",
    "at t = 1"
   ]
  },
  {
   "cell_type": "code",
   "execution_count": 9,
   "metadata": {},
   "outputs": [
    {
     "data": {
      "text/plain": [
       "1"
      ]
     },
     "execution_count": 9,
     "metadata": {},
     "output_type": "execute_result"
    }
   ],
   "source": [
    "pi = [1, 0, 0, 0]\n",
    "\n",
    "q1 = 0  # 0-based indexing for the first state\n",
    "\n",
    "B = np.array([\n",
    "    [0.8, 0.1, 0.1],\n",
    "    [0.3, 0.4, 0.3],\n",
    "    [0.1, 0.2, 0.7],\n",
    "    [0.2, 0.5, 0.3]\n",
    "])\n",
    "\n",
    "r = np.random.rand()\n",
    "\n",
    "if r <= 0.8:\n",
    "    O1 = 1\n",
    "elif r <= 0.9:\n",
    "    O1 = 2\n",
    "else:\n",
    "    O1 = 3\n",
    "\n",
    "O1\n"
   ]
  },
  {
   "cell_type": "markdown",
   "metadata": {},
   "source": [
    "for t = 2"
   ]
  },
  {
   "cell_type": "code",
   "execution_count": 10,
   "metadata": {},
   "outputs": [
    {
     "name": "stdout",
     "output_type": "stream",
     "text": [
      "1\n"
     ]
    },
    {
     "data": {
      "text/plain": [
       "2"
      ]
     },
     "execution_count": 10,
     "metadata": {},
     "output_type": "execute_result"
    }
   ],
   "source": [
    "# Set the random seed for reproducibility\n",
    "np.random.seed(200537799 + 1)  # incrementing seed to simulate the passage of time\n",
    "\n",
    "r = np.random.rand()\n",
    "\n",
    "if r <= 0.4:\n",
    "    q2 = 1\n",
    "elif r <= 0.8:\n",
    "    q2 = 2\n",
    "elif r <= 0.9:\n",
    "    q2 = 3\n",
    "else:\n",
    "    q2 = 4\n",
    "\n",
    "q2 -= 1\n",
    "print(q2)\n",
    "r = np.random.rand()\n",
    "\n",
    "if r <= B[q2, 0]:\n",
    "    O2 = 1\n",
    "elif r <= B[q2, 0] + B[q2, 1]:\n",
    "    O2 = 2\n",
    "else:\n",
    "    O2 = 3\n",
    "\n",
    "O2\n"
   ]
  },
  {
   "cell_type": "markdown",
   "metadata": {},
   "source": [
    "at t =3"
   ]
  },
  {
   "cell_type": "code",
   "execution_count": 11,
   "metadata": {},
   "outputs": [
    {
     "name": "stdout",
     "output_type": "stream",
     "text": [
      "State q3: 1\n",
      "Observation O3: 1\n"
     ]
    }
   ],
   "source": [
    "q2 = 1  # your q2 value here, 0-based index\n",
    "\n",
    "np.random.seed(200537799 + 2)  # incrementing seed to simulate the passage of time\n",
    "\n",
    "# Step 1: Determine q3 based on the transition probabilities from q2\n",
    "r = np.random.rand()\n",
    "probabilities = P[q2]  # transition probabilities from the current state\n",
    "cumulative_probabilities = np.cumsum(probabilities)\n",
    "q3 = np.where(cumulative_probabilities >= r)[0][0]\n",
    "\n",
    "# Step 2: Determine O3 based on the event matrix B for the new state q3\n",
    "r = np.random.rand()\n",
    "probabilities = B[q3]  # event probabilities from the current state\n",
    "cumulative_probabilities = np.cumsum(probabilities)\n",
    "O3 = np.where(cumulative_probabilities >= r)[0][0] + 1  # +1 for 1-based indexing of observations\n",
    "\n",
    "print(\"State q3:\", q3 + 1)  # +1 for 1-based indexing of states\n",
    "print(\"Observation O3:\", O3)\n"
   ]
  },
  {
   "cell_type": "markdown",
   "metadata": {},
   "source": [
    "at t = 4"
   ]
  },
  {
   "cell_type": "code",
   "execution_count": 12,
   "metadata": {},
   "outputs": [
    {
     "name": "stdout",
     "output_type": "stream",
     "text": [
      "Final state sequence: [1, 2, 1, 3, 3, 4, 2, 4, 1, 1, 4, 2, 3, 3, 3, 3, 3, 2, 1, 2, 4, 3, 1, 2, 2, 2, 2, 1, 2, 4, 2, 4, 4, 1, 2, 2, 2, 3, 3, 3, 1, 1, 2, 3, 4, 1, 4, 3, 3, 3, 4, 1, 4, 1, 3, 4, 2, 3, 4, 1, 1, 2, 2, 3, 4, 1, 1, 4, 1, 1, 2, 4, 2, 2, 3, 3, 4, 3, 4, 1, 4, 2, 4, 2, 1, 2, 2, 3, 4, 1, 1, 2, 2, 2, 4, 2, 3, 2, 2, 2, 3, 4, 1, 3, 4, 1, 2, 1, 1, 1, 2, 3, 4, 1, 4, 3, 3, 3, 4, 2, 4, 2, 2, 4, 3, 4, 3, 4, 4, 3, 4, 2, 4, 1, 2, 4, 3, 3, 4, 1, 1, 3, 2, 1, 1, 2, 1, 2, 4, 1, 2, 4, 2, 1, 1, 2, 2, 3, 3, 4, 1, 2, 2, 1, 3, 3, 4, 3, 3, 1, 2, 4, 1, 3, 3, 2, 3, 3, 3, 3, 3, 1, 2, 1, 2, 2, 2, 2, 2, 2, 4, 3, 3, 3, 2, 3, 3, 3, 4, 3, 4, 1, 1, 2, 2, 3, 3, 3, 3, 3, 1, 1, 1, 2, 4, 2, 2, 3, 1, 2, 1, 2, 2, 2, 2, 3, 3, 4, 1, 2, 3, 1, 2, 1, 2, 4, 1, 2, 4, 1, 3, 4, 2, 1, 2, 3, 3, 3, 4, 1, 2, 3, 3, 3, 3, 3, 3, 2, 1, 1, 2, 4, 1, 1, 2, 3, 3, 4, 1, 1, 2, 1, 1, 1, 2, 1, 2, 3, 4, 2, 2, 4, 2, 2, 4, 3, 3, 3, 3, 4, 3, 2, 4, 2, 1, 3, 1, 1, 4, 2, 4, 1, 2, 4, 2, 4, 1, 1, 1, 1, 2, 2, 2, 3, 1, 2, 2, 4, 1, 4, 3, 4, 3, 4, 1, 2, 3, 3, 4, 1, 2, 4, 1, 2, 3, 4, 1, 1, 1, 2, 2, 3, 4, 1, 2, 3, 4, 2, 2, 4, 2, 4, 1, 3, 1, 1, 3, 1, 1, 2, 3, 3, 3, 3, 3, 1, 2, 4, 2, 2, 1, 1, 3, 4, 1, 1, 2, 3, 4, 2, 3, 3, 3, 3, 1, 2, 3, 4, 3, 4, 1, 2, 2, 1, 1, 1, 2, 4, 3, 2, 1, 2, 2, 3, 1, 2, 3, 3, 4, 3, 3, 4, 4, 2, 1, 2, 1, 1, 2, 2, 3, 3, 4, 2, 2, 3, 4, 1, 3, 4, 2, 4, 1, 4, 2, 4, 3, 4, 1, 1, 1, 1, 3, 3, 1, 3, 4, 1, 1, 2, 3, 4, 1, 4, 4, 3, 3, 4, 2, 2, 2, 3, 4, 1, 1, 3, 2, 1, 1, 1, 2, 3, 3, 4, 2, 3, 4, 4, 4, 1, 1, 4, 1, 3, 3, 3, 3, 3, 3, 2, 3, 4, 1, 1, 2, 3, 3, 3, 4, 1, 1, 2, 4, 3, 4, 4, 1, 4, 1, 2, 2, 1, 2, 3, 3, 3, 3, 4, 4, 3, 4, 1, 1, 2, 3, 3, 2, 2, 4, 4, 2, 3, 4, 1, 1, 2, 4, 3, 4, 1, 4, 1, 3, 3, 3, 4, 2, 3, 1, 1, 2, 3, 4, 2, 2, 4, 4, 2, 2, 2, 2, 2, 2, 3, 4, 1, 4, 2, 2, 1, 1, 1, 3, 4, 1, 1, 1, 2, 2, 3, 4, 3, 3, 3, 4, 2, 4, 1, 4, 3, 4, 1, 1, 1, 2, 2, 2, 3, 2, 3, 3, 3, 2, 2, 1, 4, 1, 2, 4, 1, 3, 4, 2, 3, 4, 1, 3, 3, 3, 3, 4, 1, 1, 1, 1, 1, 2, 3, 3, 1, 2, 1, 2, 3, 3, 4, 2, 4, 2, 2, 1, 4, 4, 2, 3, 4, 1, 2, 3, 4, 1, 1, 2, 3, 4, 2, 1, 2, 3, 4, 4, 2, 3, 4, 3, 3, 4, 1, 3, 3, 3, 3, 2, 4, 1, 2, 4, 1, 3, 4, 3, 3, 4, 1, 2, 2, 3, 4, 1, 1, 1, 2, 2, 1, 1, 2, 2, 3, 3, 3, 4, 1, 2, 3, 4, 1, 2, 1, 2, 3, 4, 4, 3, 4, 1, 3, 3, 3, 4, 2, 2, 2, 2, 4, 1, 1, 2, 2, 3, 3, 4, 2, 3, 2, 1, 2, 4, 2, 3, 3, 2, 1, 4, 2, 1, 2, 3, 1, 3, 4, 1, 2, 3, 2, 3, 3, 3, 3, 3, 4, 3, 4, 3, 3, 3, 3, 3, 4, 1, 1, 2, 2, 3, 4, 3, 3, 3, 4, 1, 2, 1, 2, 3, 4, 2, 1, 3, 4, 2, 4, 1, 1, 2, 3, 1, 1, 3, 1, 1, 1, 2, 2, 2, 3, 2, 1, 4, 1, 4, 3, 3, 4, 1, 2, 2, 4, 2, 3, 4, 1, 2, 1, 2, 1, 2, 2, 1, 1, 2, 1, 2, 4, 1, 1, 1, 1, 2, 1, 1, 3, 4, 1, 1, 2, 1, 2, 3, 3, 3, 4, 2, 3, 3, 3, 2, 3, 3, 3, 3, 4, 3, 1, 2, 3, 4, 3, 3, 4, 2, 3, 3, 3, 1, 1, 1, 1, 1, 1, 2, 4, 2, 4, 3, 3, 4, 1, 1, 2, 1, 2, 3, 3, 4, 4, 1, 1, 1, 2, 3, 3, 4, 2, 4, 3, 3, 2, 3, 3, 3, 3, 3, 3, 4, 2, 3, 2, 2, 3, 4, 1, 1, 1, 3, 4, 2, 3, 3, 4, 3, 2, 1, 1, 2, 2, 4, 2, 3, 2, 1, 4, 2, 3, 4, 1, 1, 2, 4, 1, 3, 4, 1, 1, 2, 2, 1, 1, 2, 3, 4, 2, 4, 3, 1, 3, 4, 1, 1, 3, 3, 4, 1, 2, 3, 3, 4, 1, 2, 3, 4, 1, 2, 4, 1, 1, 4, 1, 3, 4, 2, 2, 3, 2, 2, 2, 3, 4, 1, 4, 2, 2]\n",
      "Final observation sequence: [1, 2, 1, 1, 3, 2, 1, 2, 3, 1, 3, 2, 3, 2, 1, 3, 3, 1, 1, 2, 2, 3, 1, 2, 1, 3, 1, 2, 3, 3, 2, 3, 2, 1, 3, 1, 2, 3, 1, 3, 1, 1, 3, 1, 2, 2, 1, 3, 2, 3, 3, 1, 3, 1, 3, 2, 3, 2, 2, 1, 1, 3, 3, 3, 1, 1, 1, 2, 1, 1, 1, 2, 3, 3, 2, 3, 2, 2, 2, 1, 2, 3, 1, 3, 1, 3, 3, 3, 3, 3, 2, 2, 1, 2, 2, 3, 1, 2, 3, 2, 1, 1, 1, 3, 2, 1, 1, 1, 3, 1, 3, 3, 3, 1, 2, 3, 3, 3, 3, 2, 1, 1, 1, 3, 3, 2, 3, 2, 2, 2, 2, 3, 2, 1, 1, 1, 3, 1, 2, 1, 3, 3, 2, 3, 1, 2, 1, 1, 2, 1, 2, 2, 2, 1, 1, 2, 2, 3, 1, 2, 1, 2, 2, 1, 3, 3, 2, 3, 3, 1, 2, 1, 1, 3, 3, 3, 2, 1, 3, 3, 2, 2, 1, 1, 2, 3, 3, 2, 1, 2, 2, 2, 2, 3, 3, 3, 3, 3, 2, 2, 2, 1, 1, 2, 2, 3, 3, 3, 3, 2, 1, 1, 1, 2, 2, 2, 2, 3, 1, 1, 2, 1, 3, 2, 2, 3, 3, 2, 1, 1, 1, 1, 3, 1, 3, 3, 1, 1, 2, 1, 3, 3, 2, 1, 3, 3, 3, 2, 2, 1, 2, 3, 3, 2, 3, 3, 3, 1, 1, 1, 1, 2, 3, 1, 1, 3, 3, 2, 1, 1, 1, 1, 2, 1, 3, 1, 2, 3, 3, 2, 2, 3, 3, 3, 2, 2, 2, 3, 3, 2, 3, 2, 3, 2, 1, 3, 1, 2, 2, 2, 3, 3, 1, 3, 2, 2, 2, 3, 1, 1, 2, 2, 1, 3, 1, 1, 1, 2, 1, 2, 1, 3, 3, 2, 2, 1, 3, 2, 2, 2, 3, 1, 1, 3, 3, 2, 2, 3, 1, 2, 1, 2, 2, 1, 2, 3, 2, 2, 3, 2, 3, 2, 3, 3, 2, 1, 3, 1, 1, 2, 3, 2, 3, 3, 3, 3, 1, 1, 2, 1, 3, 1, 3, 1, 3, 3, 1, 3, 2, 2, 3, 2, 3, 3, 1, 1, 3, 2, 3, 2, 1, 3, 1, 2, 1, 3, 2, 2, 3, 1, 1, 1, 3, 3, 1, 1, 2, 1, 3, 3, 3, 2, 3, 2, 1, 3, 1, 2, 3, 2, 3, 3, 1, 1, 2, 1, 2, 1, 2, 2, 1, 3, 2, 2, 1, 2, 3, 2, 1, 1, 2, 1, 2, 3, 2, 1, 2, 1, 2, 3, 3, 2, 1, 2, 3, 2, 3, 3, 3, 3, 2, 1, 2, 1, 1, 3, 1, 3, 1, 3, 1, 1, 3, 1, 1, 3, 2, 2, 2, 2, 2, 1, 2, 3, 3, 3, 3, 1, 2, 2, 3, 2, 3, 1, 2, 3, 3, 3, 3, 1, 1, 2, 1, 2, 2, 3, 3, 3, 1, 2, 2, 2, 1, 3, 3, 3, 3, 2, 2, 3, 2, 1, 1, 3, 2, 2, 3, 3, 2, 2, 1, 2, 1, 1, 1, 2, 3, 3, 2, 3, 3, 1, 3, 3, 1, 2, 3, 3, 2, 1, 2, 2, 1, 2, 3, 2, 2, 1, 2, 1, 2, 2, 1, 2, 1, 3, 1, 3, 2, 3, 1, 1, 3, 1, 1, 3, 1, 3, 3, 1, 2, 3, 1, 2, 3, 3, 2, 1, 2, 2, 2, 1, 3, 1, 1, 1, 1, 2, 2, 3, 3, 3, 3, 3, 1, 2, 1, 2, 2, 2, 3, 1, 1, 2, 1, 1, 1, 3, 3, 1, 2, 2, 1, 3, 1, 1, 1, 3, 3, 1, 3, 1, 2, 3, 3, 3, 2, 2, 2, 1, 1, 3, 2, 1, 3, 1, 3, 2, 2, 2, 1, 1, 1, 3, 2, 1, 1, 1, 3, 2, 3, 1, 3, 1, 3, 3, 1, 1, 3, 3, 3, 3, 1, 2, 1, 3, 2, 1, 2, 2, 3, 3, 2, 1, 1, 3, 2, 2, 1, 1, 1, 3, 1, 1, 1, 1, 2, 3, 3, 2, 2, 1, 2, 3, 2, 1, 3, 1, 1, 3, 2, 2, 3, 2, 1, 2, 3, 2, 2, 1, 1, 3, 2, 1, 1, 3, 2, 1, 3, 3, 3, 1, 3, 1, 1, 3, 2, 2, 3, 3, 2, 3, 1, 2, 2, 2, 2, 3, 2, 3, 1, 1, 1, 3, 3, 3, 3, 3, 3, 3, 3, 3, 3, 3, 2, 3, 3, 2, 1, 1, 3, 3, 3, 2, 3, 3, 2, 2, 1, 2, 1, 2, 1, 2, 2, 1, 2, 3, 3, 3, 1, 3, 1, 3, 3, 1, 1, 1, 1, 1, 3, 1, 3, 2, 1, 1, 3, 2, 1, 1, 3, 3, 3, 2, 1, 2, 3, 3, 1, 1, 1, 1, 3, 3, 1, 3, 1, 1, 1, 1, 3, 2, 1, 1, 1, 1, 1, 1, 1, 1, 2, 1, 1, 3, 1, 2, 3, 2, 3, 1, 2, 3, 3, 1, 1, 1, 2, 3, 3, 2, 2, 3, 1, 3, 3, 3, 3, 1, 2, 2, 3, 2, 1, 1, 1, 1, 1, 1, 3, 3, 2, 3, 3, 2, 2, 1, 2, 1, 1, 3, 2, 3, 2, 1, 1, 1, 1, 2, 3, 1, 2, 2, 3, 3, 2, 2, 3, 1, 3, 3, 3, 1, 2, 2, 3, 3, 1, 1, 2, 1, 3, 1, 1, 1, 2, 2, 3, 2, 3, 1, 1, 1, 1, 1, 2, 1, 3, 2, 1, 2, 3, 3, 1, 1, 1, 3, 3, 1, 2, 3, 1, 1, 3, 1, 1, 1, 2, 3, 3, 1, 3, 1, 3, 2, 2, 1, 1, 3, 1, 2, 2, 1, 3, 2, 3, 1, 1, 3, 2, 1, 2, 1, 1, 1, 2, 1, 1, 2, 2, 2, 3, 3, 3, 1, 2, 1, 1, 2, 3, 1]\n"
     ]
    }
   ],
   "source": [
    "P = np.array([\n",
    "    [0.4, 0.4, 0.1, 0.1],\n",
    "    [0.2, 0.3, 0.3, 0.2],\n",
    "    [0.1, 0.1, 0.4, 0.4],\n",
    "    [0.4, 0.3, 0.2, 0.1]\n",
    "])\n",
    "\n",
    "B = np.array([\n",
    "    [0.8, 0.1, 0.1],\n",
    "    [0.3, 0.4, 0.3],\n",
    "    [0.1, 0.2, 0.7],\n",
    "    [0.2, 0.5, 0.3]\n",
    "])\n",
    "\n",
    "np.random.seed(200537799)\n",
    "\n",
    "observations_final = [1, 2, 1]  # O1, O2, O3 are all 1 based on the previous steps\n",
    "states = [1, 2, 1]  # q1=1, q2=2, q3=1 based on the previous steps\n",
    "\n",
    "# Continue the process until we have 1000 observations\n",
    "for t in range(3, 1000):\n",
    "    np.random.seed(200537799 + t)\n",
    "    current_state = states[-1] - 1  # Convert to 0-based indexing\n",
    "    r = np.random.rand()\n",
    "    probabilities = P[current_state]\n",
    "    cumulative_probabilities = np.cumsum(probabilities)\n",
    "    next_state = np.where(cumulative_probabilities >= r)[0][0]\n",
    "    \n",
    "    r = np.random.rand()\n",
    "    probabilities = B[next_state]\n",
    "    cumulative_probabilities = np.cumsum(probabilities)\n",
    "    next_observation = np.where(cumulative_probabilities >= r)[0][0] + 1  # Convert back to 1-based indexing\n",
    "\n",
    "    states.append(next_state + 1)  # Convert back to 1-based indexing\n",
    "    observations_final.append(next_observation)\n",
    "\n",
    "print(\"Final state sequence:\", states)\n",
    "print(\"Final observation sequence:\", observations_final)\n",
    "# print(observations)\n"
   ]
  },
  {
   "attachments": {
    "image.png": {
     "image/png": "[encoded data removed]"
    }
   },
   "cell_type": "markdown",
   "metadata": {},
   "source": [
    "![image.png](attachment:image.png)"
   ]
  },
  {
   "cell_type": "code",
   "execution_count": 13,
   "metadata": {},
   "outputs": [
    {
     "name": "stdout",
     "output_type": "stream",
     "text": [
      "Probability p(O|lambda): 1.4306293228230843e-06\n",
      "The sequence does not occur in the generated observation\n"
     ]
    }
   ],
   "source": [
    "# print(observations)\n",
    "P = np.array([\n",
    "    [0.29626407, 0.30823233, 0.37067493, 0.02482867],\n",
    "    [0.28639575, 0.19509174, 0.38426513, 0.13424739],\n",
    "    [0.19700037, 0.44275299, 0.25230887, 0.10793777],\n",
    "    [0.2527676,  0.24369366, 0.19153504, 0.3120037]\n",
    "])\n",
    "\n",
    "B = np.array([\n",
    "    [0.3038072,  0.31608018, 0.38011262],\n",
    "    [0.03685936, 0.57289004, 0.3902506 ],\n",
    "    [0.57051371, 0.19931544, 0.23017085],\n",
    "    [0.55137385, 0.31420795, 0.1344182 ]\n",
    "])\n",
    "\n",
    "pi = np.array([1, 0, 0, 0])\n",
    "\n",
    "# Observation sequence from task 2\n",
    "observations = [1, 2, 3, 3, 1, 2, 3, 3, 1, 2, 3, 3]  \n",
    "observations = np.array(observations) - 1  # Convert to 0-based indexing for processing\n",
    "# print(observations)\n",
    "# Initialize the forward probability matrix\n",
    "# observations = [1, 2, 3, 3, 1, 2, 3, 3, 1, 2, 3, 3]\n",
    "N = len(P)  # Number of states\n",
    "T = len(observations)  # Length of the observation sequence\n",
    "F = np.zeros((N, T))\n",
    "# print(F.shape)\n",
    "for i in range(N):\n",
    "    F[i, 0] = pi[i] * B[i, observations[0]]\n",
    "\n",
    "for t in range(1, T):\n",
    "    for j in range(N):\n",
    "        # print(j,t)\n",
    "        F[j, t] = np.dot(F[:, t-1], P[:, j]) * B[j, observations[t]]\n",
    "\n",
    "p_O_lambda = np.sum(F[:, T-1])\n",
    "\n",
    "print(\"Probability p(O|lambda):\", p_O_lambda)\n",
    "\n",
    "flag = False\n",
    "for i in range(len(observations)-12):\n",
    "  if p_O_lambda == observations[i:i+12]:\n",
    "    flag = True\n",
    "    print('The sequence exists in the generated observation')\n",
    "if not flag:\n",
    "  print('The sequence does not occur in the generated observation')"
   ]
  },
  {
   "cell_type": "markdown",
   "metadata": {},
   "source": [
    "After running the script, we have the probability \n",
    "p\n",
    "(\n",
    "O\n",
    "∣\n",
    "λ\n",
    ")\n",
    "p(O∣λ) that the sequence of observations came from the HMM. This probability will inform you how likely it is that the observed sequence was generated by this HMM.\n",
    "\n",
    "***Discussion about the result:***\n",
    "\n",
    "If\n",
    "p\n",
    "(\n",
    "O\n",
    "∣\n",
    "λ\n",
    ")\n",
    "p(O∣λ) is relatively high, it means that the sequence of observations is likely to have been produced by the given HMM.\n",
    "If \n",
    "p\n",
    "(\n",
    "O\n",
    "∣\n",
    "λ\n",
    ")\n",
    "p(O∣λ) is low, it suggests that either the sequence is unlikely under the model or that the model doesn't accurately represent the process generating the observations.\n",
    "\n",
    "As p(O|λ) = 1.4306293228230843 * 10^-6 is low => the model doesn't accurately represent the process generating the observations"
   ]
  },
  {
   "cell_type": "markdown",
   "metadata": {},
   "source": [
    "### ***Task 4: Estimate the Most probable Sequence Q.***\n",
    "- Given that you know the parameters of the HMM, calculate the most probable sequence of states Q\n",
    "that gave rise to the sequence of observation O == 12331233123.\n",
    "- Discuss your results."
   ]
  },
  {
   "cell_type": "code",
   "execution_count": 14,
   "metadata": {},
   "outputs": [
    {
     "name": "stdout",
     "output_type": "stream",
     "text": [
      "The most probable sequence of states is: [2, 3, 2, 3, 2, 3, 2, 3, 2, 3, 2, 2]\n",
      "Probability: 5.920608389462918e-10\n"
     ]
    }
   ],
   "source": [
    "V = np.zeros((N, T))\n",
    "path = np.zeros((N, T), dtype=int)\n",
    "\n",
    "for i in range(N):\n",
    "    V[i, 0] = pi[i] * B[i, observations[0]]\n",
    "    path[i, 0] = i\n",
    "\n",
    "for t in range(1, T):\n",
    "    new_path = np.zeros((N, T), dtype=int)\n",
    "    for j in range(N):\n",
    "        (prob, state) = max((V[i, t-1] * P[i, j] * B[j, observations[t]], i) for i in range(N))\n",
    "        V[j, t] = prob\n",
    "        for k in range(t):\n",
    "            new_path[j, k] = path[state, k]\n",
    "        new_path[j, t] = j\n",
    "    path = new_path\n",
    "\n",
    "(prob, state) = max((V[i, T-1], i) for i in range(N))\n",
    "most_probable_path = path[state]\n",
    "\n",
    "viterbi_path = [state]\n",
    "for t in range(T-1, 0, -1):\n",
    "    state = path[state, t]\n",
    "    viterbi_path.insert(0, state)\n",
    "\n",
    "viterbi_path = [s + 1 for s in viterbi_path]\n",
    "\n",
    "# viterbi_path, prob\n",
    "\n",
    "print(\"The most probable sequence of states is:\", viterbi_path)\n",
    "print(\"Probability:\",prob)\n"
   ]
  },
  {
   "cell_type": "markdown",
   "metadata": {},
   "source": [
    "**Discussion of results:**\n",
    "\n",
    "The sequence viterbi_path gives the most probable sequence of hidden states that could have resulted in the observed sequence \n",
    "O.\n",
    "The probability prob is an indication of how likely this state sequence is. It's not an absolute measure of fit but rather the probability relative to other possible state sequences.\n",
    "If the probability prob is high, it implies that the estimated path viterbi_path is a good fit for the observations given the model.\n",
    "If the probability is low, it may suggest that either the HMM parameters do not well describe the actual process generating the observations, or that there may be multiple paths with similar probabilities.\n",
    "\n",
    "But as the probability is low HMM models ddo not well describe the actual process"
   ]
  },
  {
   "cell_type": "code",
   "execution_count": null,
   "metadata": {},
   "outputs": [],
   "source": []
  },
  {
   "cell_type": "code",
   "execution_count": 15,
   "metadata": {},
   "outputs": [
    {
     "name": "stdout",
     "output_type": "stream",
     "text": [
      "Estimated transition matrix P:\n",
      " [[1.14818418e-07 1.25299339e-01 5.58151149e-03 8.69119035e-01]\n",
      " [1.60193421e-03 6.32481570e-01 3.65089552e-01 8.26944030e-04]\n",
      " [2.45042682e-07 8.66157740e-02 3.20366586e-03 9.10180315e-01]\n",
      " [2.52151304e-01 3.63433456e-01 5.17700509e-03 3.79238236e-01]]\n",
      "Estimated emission means B:\n",
      " [[2.49991777]\n",
      " [2.55697821]\n",
      " [2.47404516]\n",
      " [1.        ]]\n",
      "Estimated emission covariances B:\n",
      " [[[2.50362284e-01]]\n",
      "\n",
      " [[2.46936542e-01]]\n",
      "\n",
      " [[2.49663628e-01]]\n",
      "\n",
      " [[2.86585731e-05]]]\n",
      "Estimated initial state distribution pi:\n",
      " [1.88098173e-166 1.76183032e-132 1.18969322e-181 1.00000000e+000]\n"
     ]
    },
    {
     "name": "stderr",
     "output_type": "stream",
     "text": [
      "c:\\Users\\nayan\\AppData\\Local\\Programs\\Python\\Python311\\Lib\\site-packages\\sklearn\\base.py:1151: ConvergenceWarning: Number of distinct clusters (3) found smaller than n_clusters (4). Possibly due to duplicate points in X.\n",
      "  return fit_method(estimator, *args, **kwargs)\n"
     ]
    }
   ],
   "source": [
    "from hmmlearn import hmm\n",
    "observations = np.array(observations_final).reshape(-1, 1)\n",
    "\n",
    "model = hmm.GaussianHMM(n_components=4, n_iter=1000, init_params=\"stmc\")\n",
    "\n",
    "model.fit(observations)\n",
    "\n",
    "estimated_P = model.transmat_  # Transition matrix\n",
    "estimated_B_means = model.means_  # Emission means (for Gaussian emissions)\n",
    "estimated_B_covars = model.covars_  # Emission covariances (for Gaussian emissions)\n",
    "estimated_pi = model.startprob_  # Initial state distribution\n",
    "\n",
    "print(\"Estimated transition matrix P:\\n\", estimated_P)\n",
    "print(\"Estimated emission means B:\\n\", estimated_B_means)\n",
    "print(\"Estimated emission covariances B:\\n\", estimated_B_covars)\n",
    "print(\"Estimated initial state distribution pi:\\n\", estimated_pi)\n"
   ]
  },
  {
   "cell_type": "markdown",
   "metadata": {},
   "source": [
    "With the estimated parameters for the trained Hidden Markov Model (HMM), we can discuss several points of interest:\n",
    "\n",
    "1. **Transition Matrix Comparison**: The estimated transition matrix \\( P \\) shows the probabilities of transitioning from one state to another. Notably, some transitions appear to have very high probabilities (close to 1), while others are very low (on the order of \\( 10^{-7} \\) to \\( 10^{-3} \\)). This could indicate that the HMM has identified certain transitions between states as very likely and others as quite unlikely. Comparing to the actual \\( P \\), you might notice differences in specific transition probabilities, which could be due to the random nature of the sequence of observations or because the model has identified dominant transitions in the data.\n",
    "\n",
    "2. **Emission Probabilities and Variances**: The emission means \\( B \\) are clustered around the values 1, 2, and 3, which correspond to the three possible observations. This suggests that the model has correctly identified the central tendency of emissions in each state. The variances are low for the last state, which might indicate that when the system is in this state, the emissions are very consistent and don't vary much.\n",
    "\n",
    "3. **Initial State Distribution**: The estimated initial state distribution \\( \\pi \\) has one state with a probability of 1 and others with effectively zero probability, indicating that the model is quite certain that the initial state is state 4. This might differ from the true initial distribution, which could affect the model's predictions, particularly for the beginning of the observation sequence.\n",
    "\n",
    "4. **Model Fit and Robustness**: If the estimated parameters differ significantly from the actual parameters used to generate the data, it might indicate that the model has overfitted to this particular sequence of observations, or that the algorithm has converged to a local maximum rather than the global best solution. The robustness of the model could be evaluated by testing it on additional data or by using cross-validation.\n",
    "\n",
    "5. **Modeling Assumptions**: If the emission probabilities were assumed to be Gaussian distributed for the sake of estimation, but the true emissions are not Gaussian, this could cause discrepancies in the parameters and their interpretability.\n",
    "\n",
    "6. **Practical Implications**: For practical applications, it’s crucial to assess whether the estimated parameters lead to predictions that are useful for the task at hand. If the model’s parameters are not close to the true parameters but it still performs well on relevant tasks, the precise estimation of parameters might be less important.\n",
    "\n",
    "In summary, the estimated parameters provide insight into how the model has learned to represent the stochastic process underlying the observations. While there are discrepancies between the estimated and true parameters, what matters most is whether the estimated model can accurately predict or explain new data, which would be the ultimate test of its utility."
   ]
  },
  {
   "cell_type": "code",
   "execution_count": 16,
   "metadata": {},
   "outputs": [
    {
     "name": "stdout",
     "output_type": "stream",
     "text": [
      "Requirement already satisfied: hmmlearn in c:\\users\\nayan\\appdata\\local\\programs\\python\\python311\\lib\\site-packages (0.3.2)\n",
      "Requirement already satisfied: numpy>=1.10 in c:\\users\\nayan\\appdata\\local\\programs\\python\\python311\\lib\\site-packages (from hmmlearn) (1.26.0)\n",
      "Requirement already satisfied: scikit-learn!=0.22.0,>=0.16 in c:\\users\\nayan\\appdata\\local\\programs\\python\\python311\\lib\\site-packages (from hmmlearn) (1.3.0)\n",
      "Requirement already satisfied: scipy>=0.19 in c:\\users\\nayan\\appdata\\local\\programs\\python\\python311\\lib\\site-packages (from hmmlearn) (1.11.3)\n",
      "Requirement already satisfied: joblib>=1.1.1 in c:\\users\\nayan\\appdata\\local\\programs\\python\\python311\\lib\\site-packages (from scikit-learn!=0.22.0,>=0.16->hmmlearn) (1.3.2)\n",
      "Requirement already satisfied: threadpoolctl>=2.0.0 in c:\\users\\nayan\\appdata\\local\\programs\\python\\python311\\lib\\site-packages (from scikit-learn!=0.22.0,>=0.16->hmmlearn) (3.2.0)\n",
      "Note: you may need to restart the kernel to use updated packages.\n"
     ]
    },
    {
     "name": "stderr",
     "output_type": "stream",
     "text": [
      "\n",
      "[notice] A new release of pip is available: 23.2.1 -> 24.0\n",
      "[notice] To update, run: python.exe -m pip install --upgrade pip\n"
     ]
    }
   ],
   "source": [
    "pip install hmmlearn"
   ]
  },
  {
   "cell_type": "markdown",
   "metadata": {},
   "source": [
    "### ***EXTRA CREDIT:  Comparison of all Models (using the testing set)***\n",
    "\n",
    "**Run the above trained models on the test data. (That is, do not retrain the models, but simply run**\n",
    "**them as is on the testing set). Select the best model among ANN, regression, and HMM, based on their**\n",
    "**performance on the testing data. Comment on your results.**"
   ]
  },
  {
   "cell_type": "code",
   "execution_count": 22,
   "metadata": {},
   "outputs": [
    {
     "name": "stdout",
     "output_type": "stream",
     "text": [
      "ANN MSE on Test Set: 0.0017400263902384032\n"
     ]
    }
   ],
   "source": [
    "# 'grid_search' has the best trained ANN model and 'X_test' is the test data\n",
    "ann_predictions = grid_search.predict(X_test)\n",
    "ann_mse = mean_squared_error(y_test, ann_predictions)\n",
    "print(f\"ANN MSE on Test Set: {ann_mse}\")"
   ]
  },
  {
   "cell_type": "code",
   "execution_count": 23,
   "metadata": {},
   "outputs": [
    {
     "name": "stdout",
     "output_type": "stream",
     "text": [
      "Regression Model MSE on Test Set: 3.562793721855901e-25\n"
     ]
    }
   ],
   "source": [
    "# 'results' has the trained regression model\n",
    "X_test_const = sm.add_constant(X_test)  # add a constant if the model has an intercept\n",
    "regression_predictions = results.predict(X_test_const)\n",
    "regression_mse = mean_squared_error(y_test, regression_predictions)\n",
    "print(f\"Regression Model MSE on Test Set: {regression_mse}\")\n"
   ]
  },
  {
   "cell_type": "code",
   "execution_count": 24,
   "metadata": {},
   "outputs": [
    {
     "name": "stdout",
     "output_type": "stream",
     "text": [
      "HMM Log likelyhood on Test Set: 390.8127851810707\n"
     ]
    }
   ],
   "source": [
    "observations_test = np.array(observations_final).reshape(-1, 1)\n",
    "# Calculating log likelihood instead of MME\n",
    "log_likelihood = model.score(observations_test)\n",
    "print(f\"HMM Log likelyhood on Test Set: {log_likelihood}\")\n"
   ]
  },
  {
   "cell_type": "markdown",
   "metadata": {},
   "source": [
    "**Comments on the results:**\n",
    "\n",
    "After performing the Analysis on the test data we get the following results:\n",
    "\n",
    "ANN MSE on Test Set: 0.0017400263902384032\n",
    "Regression Model MSE on Test Set: 3.562793721855901e-25\n",
    "HMM Log likelyhood on Test Set: 390.8127851810707\n",
    "\n",
    "From the above values we can say that the regression model has an exceptionally low MSE compared to the ANN. This nearly zero MSE from the regression model suggests an almost perfect prediction of the test data, which might indicate overfitting unless the model is indeed perfect for the dataset due to its nature (possibly because the features directly determine the output without error).\n",
    "\n",
    "\n",
    "The log likelihood for the HMM is 390.8127851810707, which suggests that the model well explains the observed sequences under the HMM’s estimated parameters. However, log likelihood is not directly comparable to MSE because it measures the probability of observing the data given the model rather than the error between observed and predicted values.The log likelihood for the HMM is 390.8127851810707, which suggests that the model well explains the observed sequences under the HMM’s estimated parameters. \n",
    "\n",
    "However, log likelihood is not directly comparable to MSE because it measures the probability of observing the data given the model rather than the error between observed and predicted values.\n",
    "\n",
    "Therefore, we can conclude that If the primary goal is prediction of exact values and the features are directly and linearly related to the output, the regression model would be the best choice given its extraordinarily low MSE. However, If the task involves understanding or generating data sequences or classifications based on underlying states, the HMM might be more appropriate, despite not having a direct MSE comparison. The high log likelihood indicates it models the sequence data well."
   ]
  },
  {
   "cell_type": "markdown",
   "metadata": {},
   "source": []
  }
 ],
 "metadata": {
  "kernelspec": {
   "display_name": "Python 3",
   "language": "python",
   "name": "python3"
  },
  "language_info": {
   "codemirror_mode": {
    "name": "ipython",
    "version": 3
   },
   "file_extension": ".py",
   "mimetype": "text/x-python",
   "name": "python",
   "nbconvert_exporter": "python",
   "pygments_lexer": "ipython3",
   "version": "3.11.4"
  }
 },
 "nbformat": 4,
 "nbformat_minor": 2
}
