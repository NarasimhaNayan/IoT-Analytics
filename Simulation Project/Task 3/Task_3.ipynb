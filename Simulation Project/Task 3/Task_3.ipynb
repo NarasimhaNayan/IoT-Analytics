{
 "cells": [
  {
   "cell_type": "code",
   "execution_count": 18,
   "metadata": {},
   "outputs": [],
   "source": [
    "from collections import deque\n",
    "import pandas as pd\n",
    "import os\n",
    "import numpy as np\n",
    "import scipy.stats as stats\n",
    "import matplotlib.pyplot as plt"
   ]
  },
  {
   "cell_type": "code",
   "execution_count": 19,
   "metadata": {},
   "outputs": [],
   "source": [
    "class Simulator:\n",
    "    def __init__(self, rt_arrival_time, non_rt_arrival_time, rt_service_time, non_rt_service_time, batch_size,number_of_batches):\n",
    "        self.rt_arrival_time = rt_arrival_time\n",
    "        self.non_rt_arrival_time = non_rt_arrival_time\n",
    "        self.rt_service_time = rt_service_time\n",
    "        self.non_rt_service_time = non_rt_service_time\n",
    "        # self.max_mc = max_mc\n",
    "        self.batch_size = batch_size\n",
    "        self.number_of_batches = number_of_batches\n",
    "\n",
    "        self.RT_queue = deque([])\n",
    "        self.nonRT_queue = deque([])\n",
    "        self.RT_response_queue = deque([])\n",
    "        self.nonRT_response_queue = deque([])\n",
    "        self.batch_mean_of_RT = []\n",
    "        self.batch_mean_of_nonRT = []\n",
    "        self.batch_percentile_of_RT = []\n",
    "        self.batch_percentile_of_nonRT = []\n",
    "        self.cur_msg_arrival_time = 0\n",
    "        self.mc = 0\n",
    "        self.RTCL = 3\n",
    "        self.nonRTCL = 5\n",
    "        self.n_RT = 0\n",
    "        self.n_non_RT = 0\n",
    "        self.SCL = 4\n",
    "        self.preempt_service_time = 0 \n",
    "        self.s = 2  # 0: idle, 1: serving RT, 2: serving nonRT\n",
    "        self.event_list = [[self.RTCL, 0], [self.nonRTCL, 1], [self.SCL, 2]]\n",
    "        self.data = []\n",
    "        # current_data = [self.mc,self.RTCL, self.nonRTCL, self.n_RT, self.n_non_RT, self.SCL, self.s, self.preempt_service_time]\n",
    "        self.columns = ['MC', 'RTCL', 'nonRTCL','n_RT', 'n_nonRT', 'SCL',  's', 'Pre-empt']\n",
    "        # self.data.append(current_data)\n",
    "        self.df = pd.DataFrame(columns = self.columns)\n",
    "\n",
    "    def exp_distributed_random (self,mean) :\n",
    "        return -1*((mean)*(np.log(np.random.uniform())))\n",
    "\n",
    "\n",
    "    def start_simulation(self):\n",
    "        while self.number_of_batches >= len(self.batch_mean_of_RT) or self.number_of_batches >= len(self.batch_mean_of_nonRT) :\n",
    "            self.log_state()\n",
    "            if self.SCL == 0:\n",
    "                event = min(self.event_list[:2])\n",
    "            else : \n",
    "                event = min(self.event_list)\n",
    "            self.mc = event[0] \n",
    "            if event[1] == 0:\n",
    "                self.handle_RT_arrival()\n",
    "            elif event[1] == 1:\n",
    "                self.handle_nonRT_arrival()\n",
    "            elif event[1] == 2:\n",
    "                self.handle_service_completion()\n",
    "\n",
    "        self.write_to_dataframe()\n",
    "\n",
    "    def handle_RT_arrival(self):\n",
    "        # print(type(self.RTCL))\n",
    "        # self.mc = self.RTCL\n",
    "        self.RT_queue.append(self.RTCL)\n",
    "        self.n_RT += 1\n",
    "        self.RTCL += self.exp_distributed_random(self.rt_arrival_time)\n",
    "        self.event_list[0][0] = self.RTCL\n",
    "\n",
    "        if self.n_RT == 1 :\n",
    "            if self.s == 0:\n",
    "                self.cur_msg_arrival_time = self.RT_queue.pop()\n",
    "                self.SCL = self.mc + self.exp_distributed_random(self.rt_service_time)\n",
    "                self.n_RT -= 1\n",
    "                self.s = 1\n",
    "            elif self.s == 2:\n",
    "                # self.RT_queue.pop()\n",
    "                if (self.SCL - self.mc) != 0 :\n",
    "                    self.preempt_service_time =  self.SCL - self.mc\n",
    "                    self.nonRT_queue.append(self.preempt_service_time+self.mc)\n",
    "                    self.n_non_RT += 1\n",
    "\n",
    "                elif self.SCL - self.mc == 0:\n",
    "                    self.preempt_service_time = 0\n",
    "                    self.nonRT_response_queue.append(self.mc - self.cur_msg_arrival_time)\n",
    "                \n",
    "                self.cur_msg_arrival_time = self.RT_queue.pop()\n",
    "                self.SCL = self.mc + self.exp_distributed_random(self.rt_service_time)\n",
    "                self.n_RT -= 1\n",
    "                self.s = 1\n",
    "            self.event_list[2][0] = self.SCL\n",
    "\n",
    "    def handle_nonRT_arrival(self):\n",
    "        self.mc = self.nonRTCL\n",
    "        self.nonRT_queue.append(self.nonRTCL)\n",
    "        self.n_non_RT += 1\n",
    "        self.nonRTCL += self.exp_distributed_random(self.non_rt_arrival_time) \n",
    "\n",
    "        if len(self.nonRT_queue) == 1 and self.s == 0:\n",
    "            self.cur_msg_arrival_time = self.nonRT_queue.pop()\n",
    "            self.SCL = self.mc + self.exp_distributed_random(self.non_rt_service_time)\n",
    "            self.s = 2\n",
    "        \n",
    "        self.n_non_RT -= 1\n",
    "        self.event_list[1][0] = self.nonRTCL\n",
    "        self.event_list[2][0] = self.SCL\n",
    "\n",
    "    def handle_service_completion(self):\n",
    "        if self.s == 1 :\n",
    "            response_duration = self.mc - self.cur_msg_arrival_time\n",
    "            self.RT_response_queue.append(response_duration)\n",
    "\n",
    "            if len(self.RT_response_queue) == self.batch_size:\n",
    "                # Computing statistics once a batch is complete\n",
    "                average_response_time_RT = np.mean(self.RT_response_queue)\n",
    "                percentile_95_response_time_RT = np.percentile(self.RT_response_queue, 95)\n",
    "\n",
    "                self.batch_mean_of_RT.append(average_response_time_RT)\n",
    "                self.batch_percentile_of_RT.append(percentile_95_response_time_RT)\n",
    "\n",
    "                # Clearing the queue for the next batch\n",
    "                self.RT_response_queue.clear()\n",
    "        else:\n",
    "            response_duration = self.mc - self.cur_msg_arrival_time\n",
    "            self.nonRT_response_queue.append(response_duration)\n",
    "\n",
    "            if len(self.nonRT_response_queue) == self.batch_size:\n",
    "                # Computing statistics once a batch is complete\n",
    "                average_response_time_nonRT = np.mean(self.nonRT_response_queue)\n",
    "                percentile_95_response_time_nonRT = np.percentile(self.nonRT_response_queue, 95)\n",
    "\n",
    "                self.batch_mean_of_nonRT.append(average_response_time_nonRT)\n",
    "                self.batch_percentile_of_nonRT.append(percentile_95_response_time_nonRT)\n",
    "\n",
    "                # Clearing the queue for the next batch\n",
    "                self.nonRT_response_queue.clear()\n",
    "            \n",
    "\n",
    "        # self.mc = self.SCL\n",
    "        if len(self.RT_queue) > 0:\n",
    "            self.cur_msg_arrival_time = self.RT_queue.pop()\n",
    "            self.SCL = self.mc + self.exp_distributed_random(self.rt_service_time)\n",
    "            self.s =1\n",
    "            self.n_RT -= 1\n",
    "\n",
    "        elif len(self.RT_queue) == 0 and len(self.nonRT_queue) > 0:\n",
    "            self.cur_msg_arrival_time = self.nonRT_queue.pop()\n",
    "            if self.preempt_service_time > 0 :\n",
    "                self.SCL = self.mc + self.preempt_service_time\n",
    "                self.preempt_service_time = 0\n",
    "            else:\n",
    "                self.SCL = self.mc + self.exp_distributed_random(self.non_rt_service_time)\n",
    "            self.s = 2\n",
    "            self.n_non_RT -= 1\n",
    "\n",
    "        else:\n",
    "            self.s = 0\n",
    "            self.SCL = 0\n",
    "        \n",
    "        self.event_list[2][0] = self.SCL\n",
    "\n",
    "    def log_state(self):\n",
    "        # if self.data and self.data[-1][0] != self.mc:\n",
    "        self.data.append([self.mc, self.RTCL, self.nonRTCL, len(self.RT_queue), len(self.nonRT_queue), self.SCL, self.s, self.preempt_service_time])\n",
    "        # print('MC:', self.mc, 'RTCL:', self.RTCL, 'nonRTCL:', self.nonRTCL, 'nRT:', len(self.RT_queue), 'non_nRT:', len(self.nonRT_queue),\n",
    "        #       'SCL:', self.SCL, 's:', self.s, 'pre-empt:', self.preempt_service_time)\n",
    "\n",
    "    def write_to_dataframe(self):\n",
    "        self.df = pd.DataFrame(self.data, columns=self.columns)\n",
    "        # print(self.df)"
   ]
  },
  {
   "cell_type": "code",
   "execution_count": 20,
   "metadata": {},
   "outputs": [],
   "source": [
    "df_RT_mean_batch = pd.DataFrame(columns=['MIAT_nonRT', 'mean', '95th percentile', 'confidence interval', 'error margin'])\n",
    "df_nonRT_mean_batch = pd.DataFrame(columns=['MIAT_nonRT', 'mean', '95th percentile', 'confidence interval', 'error margin'])\n",
    "df_RT_percentile_batch = pd.DataFrame(columns=['MIAT_nonRT', 'mean', '95th percentile', 'confidence interval', 'error margin'])\n",
    "df_nonRT_percentile_batch = pd.DataFrame(columns=['MIAT_nonRT', 'mean', '95th percentile', 'confidence interval', 'error margin'])  \n"
   ]
  },
  {
   "cell_type": "code",
   "execution_count": 21,
   "metadata": {},
   "outputs": [],
   "source": [
    "def compute_append_rt_mean_batch(simulation, mean_interarrival_time):\n",
    "    rt_avg = np.mean(simulation.batch_mean_of_RT)\n",
    "    rt_95th_percentile = np.percentile(simulation.batch_mean_of_RT, 95)\n",
    "    rt_conf_interval = stats.t.interval(0.95, df=len(simulation.batch_mean_of_RT)-1, loc=rt_avg, scale=stats.sem(simulation.batch_mean_of_RT))\n",
    "    rt_error_margin = rt_conf_interval[1] - rt_conf_interval[0]\n",
    "\n",
    "    return {'MIAT_nonRT': mean_interarrival_time, 'mean': rt_avg, '95th percentile': rt_95th_percentile, 'confidence interval': rt_conf_interval, 'error margin': rt_error_margin}\n"
   ]
  },
  {
   "cell_type": "code",
   "execution_count": 22,
   "metadata": {},
   "outputs": [],
   "source": [
    "def compute_append_nonrt_mean_batch(simulation,mean_interarrival_time):\n",
    "    nonrt_avg = np.mean(simulation.batch_mean_of_nonRT)\n",
    "    nonrt_95th_percentile = np.percentile(simulation.batch_mean_of_nonRT, 95)\n",
    "    nonrt_conf_interval = stats.t.interval(0.95, df=len(simulation.batch_mean_of_nonRT)-1, loc=nonrt_avg, scale=stats.sem(simulation.batch_mean_of_nonRT))\n",
    "    nonrt_error_margin = nonrt_conf_interval[1] - nonrt_conf_interval[0]\n",
    "\n",
    "    return {'MIAT_nonRT': mean_interarrival_time, 'mean': nonrt_avg, '95th percentile': nonrt_95th_percentile, 'confidence interval': nonrt_conf_interval, 'error margin': nonrt_error_margin}"
   ]
  },
  {
   "cell_type": "code",
   "execution_count": 23,
   "metadata": {},
   "outputs": [],
   "source": [
    "def compute_append_rt_percentile_batch(simulation, mean_interarrival_time):\n",
    "    rt_avg = np.mean(simulation.batch_percentile_of_RT)\n",
    "    rt_95th_percentile = np.percentile(simulation.batch_percentile_of_RT, 95)\n",
    "    rt_conf_interval = stats.t.interval(0.95, df=len(simulation.batch_percentile_of_RT)-1, loc=rt_avg, scale=stats.sem(simulation.batch_percentile_of_RT))\n",
    "    rt_error_margin = rt_conf_interval[1] - rt_conf_interval[0]\n",
    "\n",
    "    return {'MIAT_nonRT': mean_interarrival_time, 'mean': rt_avg, '95th percentile': rt_95th_percentile, 'confidence interval': rt_conf_interval, 'error margin': rt_error_margin}"
   ]
  },
  {
   "cell_type": "code",
   "execution_count": 24,
   "metadata": {},
   "outputs": [],
   "source": [
    "def compute_append_nonrt_percentile_batch(simulation, mean_interarrival_time):\n",
    "    nonrt_avg = np.mean(simulation.batch_percentile_of_nonRT)\n",
    "    nonrt_95th_percentile = np.percentile(simulation.batch_percentile_of_nonRT, 95)\n",
    "    nonrt_conf_interval = stats.t.interval(0.95, df=len(simulation.batch_percentile_of_nonRT)-1, loc=nonrt_avg, scale=stats.sem(simulation.batch_percentile_of_nonRT))\n",
    "    nonrt_error_margin = nonrt_conf_interval[1] - nonrt_conf_interval[0]\n",
    "\n",
    "    return {'MIAT_nonRT': mean_interarrival_time, 'mean': nonrt_avg, '95th percentile': nonrt_95th_percentile, 'confidence interval': nonrt_conf_interval, 'error margin': nonrt_error_margin}\n"
   ]
  },
  {
   "cell_type": "code",
   "execution_count": 25,
   "metadata": {},
   "outputs": [
    {
     "name": "stdout",
     "output_type": "stream",
     "text": [
      "Entered mean inter arrival time of RT messages, M_I_AT_RT: 7\n",
      "Entered mean service time of RT messages, M_ST_RT:  2\n",
      "Entered mean service time of non RT messages, M_ST_nonRT:  4\n",
      "Entered number of batches, m:  51\n",
      "Enter batch size, b:  1000\n"
     ]
    }
   ],
   "source": [
    "rt_arrival_time = int(input(\"Enter the mean inter arrival time of RT messages, M_I_AT_RT: \"))\n",
    "rt_service_time = int(input(\"Enter the mean service time of RT messages, M_ST_RT: \"))\n",
    "non_rt_service_time = int(input(\"Enter the mean service time of non RT messages, M_ST_nonRT: \"))\n",
    "number_of_batches = int(input(\"Enter the number of batches, m: \"))\n",
    "batch_size = int(input(\"Enter the batch size, b: \"))\n",
    "# rt_arrival_time = 7\n",
    "# rt_service_time = 2\n",
    "# non_rt_service_time = 4\n",
    "# number_of_batches = 51\n",
    "# batch_size =1000\n",
    "non_rt_arrival_time_sequence = [10,15,20,25,30,35,40]\n",
    "\n",
    "print('Entered mean inter arrival time of RT messages, M_I_AT_RT:', rt_arrival_time)\n",
    "print(\"Entered mean service time of RT messages, M_ST_RT: \",rt_service_time)\n",
    "print(\"Entered mean service time of non RT messages, M_ST_nonRT: \",non_rt_service_time)\n",
    "print(\"Entered number of batches, m: \",number_of_batches)\n",
    "print(\"Enter batch size, b: \",batch_size)"
   ]
  },
  {
   "cell_type": "code",
   "execution_count": 26,
   "metadata": {},
   "outputs": [],
   "source": [
    "for nonRT_arrival_time in non_rt_arrival_time_sequence:\n",
    "    simulator = Simulator(rt_arrival_time, nonRT_arrival_time, rt_service_time, non_rt_service_time, batch_size,number_of_batches)\n",
    "    simulator.start_simulation()\n",
    "\n",
    "    simulator.batch_mean_of_RT = simulator.batch_mean_of_RT[1:51]\n",
    "    simulator.batch_percentile_of_RT = simulator.batch_percentile_of_RT[1:51]\n",
    "    simulator.batch_mean_of_nonRT = simulator.batch_mean_of_nonRT[1:51]\n",
    "    simulator.batch_percentile_of_nonRT = simulator.batch_percentile_of_nonRT[1:51]\n",
    "\n",
    "    # Calculation of batch mean and batch percentile\n",
    "    new_row_RT_mean_batch = compute_append_rt_mean_batch(simulator, nonRT_arrival_time)\n",
    "    df_RT_mean_batch = pd.concat([df_RT_mean_batch, pd.DataFrame([new_row_RT_mean_batch])], ignore_index=True)\n",
    "    new_row_nonRT_mean_batch = compute_append_nonrt_mean_batch(simulator, nonRT_arrival_time)\n",
    "    df_nonRT_mean_batch = pd.concat([df_nonRT_mean_batch, pd.DataFrame([new_row_nonRT_mean_batch])], ignore_index=True)\n",
    "    new_row_df_RT_percentile_batch = compute_append_rt_percentile_batch(simulator, nonRT_arrival_time)\n",
    "    df_RT_percentile_batch = pd.concat([df_RT_percentile_batch, pd.DataFrame([new_row_df_RT_percentile_batch])], ignore_index=True)\n",
    "    new_row_df_nonRT_percentile_batch = compute_append_nonrt_percentile_batch(simulator, nonRT_arrival_time)\n",
    "    df_nonRT_percentile_batch = pd.concat([df_nonRT_percentile_batch, pd.DataFrame([new_row_df_nonRT_percentile_batch])], ignore_index=True)"
   ]
  },
  {
   "cell_type": "code",
   "execution_count": 27,
   "metadata": {},
   "outputs": [
    {
     "name": "stdout",
     "output_type": "stream",
     "text": [
      "RT Message Statistics - Mean Batches:\n",
      "  MIAT_nonRT      mean  95th percentile  \\\n",
      "0         10  2.822462         3.023114   \n",
      "1         15  2.779803         2.993671   \n",
      "2         20  2.795498         3.090144   \n",
      "3         25  2.822620         3.067144   \n",
      "4         30  2.868881         3.109181   \n",
      "5         35  2.799131         3.009252   \n",
      "6         40  2.790644         3.016033   \n",
      "\n",
      "                        confidence interval  error margin  \n",
      "0    (2.77898493552375, 2.8659382811688086)      0.086953  \n",
      "1  (2.7453644801429147, 2.8142406786978618)      0.068876  \n",
      "2   (2.7469036414474393, 2.844092638357076)      0.097189  \n",
      "3  (2.7808273089244504, 2.8644121229817405)      0.083585  \n",
      "4    (2.82772202437825, 2.9100396199081047)      0.082318  \n",
      "5  (2.7561115449473585, 2.8421502179725775)      0.086039  \n",
      "6  (2.7458708747361324, 2.8354161626311134)      0.089545  \n"
     ]
    }
   ],
   "source": [
    "print(\"RT Message Statistics - Mean Batches:\")\n",
    "print(df_RT_mean_batch)"
   ]
  },
  {
   "cell_type": "code",
   "execution_count": 28,
   "metadata": {},
   "outputs": [
    {
     "name": "stdout",
     "output_type": "stream",
     "text": [
      "NonRT Message Statistics - Mean Batches:\n",
      "  MIAT_nonRT      mean  95th percentile  \\\n",
      "0         10  8.635032        10.068412   \n",
      "1         15  5.747448         6.505309   \n",
      "2         20  4.928011         5.409616   \n",
      "3         25  4.575588         5.047704   \n",
      "4         30  4.321686         4.790233   \n",
      "5         35  4.095464         4.543460   \n",
      "6         40  4.024959         4.411150   \n",
      "\n",
      "                        confidence interval  error margin  \n",
      "0      (8.3966719961544, 8.873391798360167)      0.476720  \n",
      "1     (5.61626830039178, 5.878628348345903)      0.262360  \n",
      "2    (4.833879672982261, 5.022142438404338)      0.188263  \n",
      "3    (4.494282925023255, 4.656892880622192)      0.162610  \n",
      "4    (4.244930672396088, 4.398442063522155)      0.153511  \n",
      "5   (4.029822454946803, 4.1611054611489635)      0.131283  \n",
      "6  (3.9638762864002315, 4.0860413078742885)      0.122165  \n"
     ]
    }
   ],
   "source": [
    "print(\"NonRT Message Statistics - Mean Batches:\")\n",
    "print(df_nonRT_mean_batch)"
   ]
  },
  {
   "cell_type": "code",
   "execution_count": 33,
   "metadata": {},
   "outputs": [
    {
     "data": {
      "image/png": "[encoded data removed]",
      "text/plain": [
       "<Figure size 1200x600 with 1 Axes>"
      ]
     },
     "metadata": {},
     "output_type": "display_data"
    }
   ],
   "source": [
    "# Set up the plot for Mean Response Time comparison\n",
    "fig, ax = plt.subplots(figsize=(12, 6))\n",
    "index_positions = np.arange(len(non_rt_arrival_time_sequence))\n",
    "bar_width = 0.3\n",
    "color_rt = 'red'\n",
    "color_nonrt = 'green'\n",
    "bars_rt = ax.bar(index_positions - bar_width/2, df_RT_mean_batch['mean'], bar_width, yerr=df_RT_mean_batch['error margin'], alpha=0.5, ecolor='black', capsize=10, label='RT Messages',color = color_rt)\n",
    "bars_non_rt = ax.bar(index_positions + bar_width/2, df_nonRT_mean_batch['mean'], bar_width, yerr=df_nonRT_mean_batch['error margin'], alpha=0.5, ecolor='black', capsize=10, label='NonRT Messages', color = color_nonrt)\n",
    "\n",
    "# Setting labels and titles\n",
    "ax.set_ylabel('Mean Response Time')\n",
    "ax.set_xlabel('Mean Inter-Arrival Time of NonRT Messages')\n",
    "ax.set_title('Comparison of Mean Response Times: RT vs NonRT')\n",
    "ax.set_xticks(index_positions)\n",
    "ax.set_xticklabels(non_rt_arrival_time_sequence)\n",
    "ax.legend()\n",
    "\n",
    "# Adjust layout and display the plot\n",
    "fig.tight_layout()\n",
    "plt.show()"
   ]
  },
  {
   "cell_type": "code",
   "execution_count": 30,
   "metadata": {},
   "outputs": [
    {
     "name": "stdout",
     "output_type": "stream",
     "text": [
      "Percentile Batch Statistics - RT Messages:\n",
      "  MIAT_nonRT      mean  95th percentile  \\\n",
      "0         10  8.541892         9.360687   \n",
      "1         15  8.262171         8.942944   \n",
      "2         20  8.416934         9.634939   \n",
      "3         25  8.511546         9.595357   \n",
      "4         30  8.577169         9.673259   \n",
      "5         35  8.384921         9.234019   \n",
      "6         40  8.475513         9.334389   \n",
      "\n",
      "                      confidence interval  error margin  \n",
      "0  (8.380392623379459, 8.703390581712528)      0.322998  \n",
      "1  (8.135096783338119, 8.389245055394094)      0.254148  \n",
      "2  (8.223536356067754, 8.610330931028102)      0.386795  \n",
      "3   (8.334899229114987, 8.68819279642745)      0.353294  \n",
      "4  (8.409252169261919, 8.745085627890333)      0.335833  \n",
      "5  (8.217999393995813, 8.551843458784555)      0.333844  \n",
      "6  (8.282132828101993, 8.668893950295779)      0.386761  \n"
     ]
    }
   ],
   "source": [
    "print(\"Percentile Batch Statistics - RT Messages:\")\n",
    "print(df_RT_percentile_batch)"
   ]
  },
  {
   "cell_type": "code",
   "execution_count": 31,
   "metadata": {},
   "outputs": [
    {
     "name": "stdout",
     "output_type": "stream",
     "text": [
      "Percentile Batch Statistics - NonRT Messages:\n",
      "  MIAT_nonRT       mean  95th percentile  \\\n",
      "0         10  33.383445        41.315144   \n",
      "1         15  20.797900        26.042329   \n",
      "2         20  17.017382        19.926564   \n",
      "3         25  15.585330        17.852424   \n",
      "4         30  14.686195        16.561220   \n",
      "5         35  13.758480        15.333053   \n",
      "6         40  13.523480        15.199365   \n",
      "\n",
      "                        confidence interval  error margin  \n",
      "0    (32.00292151417892, 34.76396761430816)      2.761046  \n",
      "1   (20.038413750835133, 21.55738615370128)      1.518972  \n",
      "2  (16.559505965398913, 17.475258599405265)      0.915753  \n",
      "3  (15.212682504799231, 15.957977900110867)      0.745295  \n",
      "4  (14.318857767464031, 15.053532002543754)      0.734674  \n",
      "5  (13.462188970093868, 14.054771302537324)      0.592582  \n",
      "6    (13.225201301674227, 13.8217579710356)      0.596557  \n"
     ]
    }
   ],
   "source": [
    "print(\"Percentile Batch Statistics - NonRT Messages:\")\n",
    "print(df_nonRT_percentile_batch)"
   ]
  },
  {
   "cell_type": "code",
   "execution_count": 32,
   "metadata": {},
   "outputs": [
    {
     "data": {
      "image/png": "[encoded data removed]",
      "text/plain": [
       "<Figure size 1200x600 with 1 Axes>"
      ]
     },
     "metadata": {},
     "output_type": "display_data"
    }
   ],
   "source": [
    "fig, ax = plt.subplots(figsize=(12, 6))\n",
    "\n",
    "# Plotting the bars for RT and nonRT message statistics\n",
    "color_rt = 'red'\n",
    "color_nonrt = 'green'\n",
    "bars_rt_percentile = ax.bar(index_positions - bar_width/2, df_RT_percentile_batch['mean'], bar_width, yerr=df_RT_percentile_batch['error margin'], alpha=0.5, ecolor='black', capsize=10, label='RT Messages', color = color_rt)\n",
    "bars_non_rt_percentile = ax.bar(index_positions + bar_width/2, df_nonRT_percentile_batch['mean'], bar_width, yerr=df_nonRT_percentile_batch['error margin'], alpha=0.5, ecolor='black', capsize=10, label='NonRT Messages',color = color_nonrt)\n",
    "\n",
    "# Configuring plot settings\n",
    "ax.set_ylabel('95th Percentile Response Time')\n",
    "ax.set_xlabel('Mean Inter-Arrival Time of NonRT Messages')\n",
    "ax.set_title('RT vs NonRT: 95th Percentile Response Time Analysis')\n",
    "ax.set_xticks(index_positions)\n",
    "ax.set_xticklabels(non_rt_arrival_time_sequence)\n",
    "ax.legend()\n",
    "\n",
    "# Final layout adjustment and plot display\n",
    "fig.tight_layout()\n",
    "plt.show()"
   ]
  },
  {
   "cell_type": "code",
   "execution_count": null,
   "metadata": {},
   "outputs": [],
   "source": []
  }
 ],
 "metadata": {
  "kernelspec": {
   "display_name": "Python 3",
   "language": "python",
   "name": "python3"
  },
  "language_info": {
   "codemirror_mode": {
    "name": "ipython",
    "version": 3
   },
   "file_extension": ".py",
   "mimetype": "text/x-python",
   "name": "python",
   "nbconvert_exporter": "python",
   "pygments_lexer": "ipython3",
   "version": "3.11.4"
  }
 },
 "nbformat": 4,
 "nbformat_minor": 2
}
